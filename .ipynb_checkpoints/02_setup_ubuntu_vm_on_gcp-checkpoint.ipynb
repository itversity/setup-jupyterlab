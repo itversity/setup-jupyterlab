{
 "cells": [
  {
   "cell_type": "markdown",
   "metadata": {},
   "source": [
    "# Setup Ubuntu VM on GCP\n",
    "\n",
    "* Signing up for GCP\n",
    "* Understanding GCP Web Console\n",
    "* Overview of GCP Pricing\n",
    "* Provision Ubuntu 18.04 Virtual Machine\n",
    "* Setup Docker \n",
    "* Validating Python \n",
    "* Setup Jupyter Lab\n",
    "\n",
    "You can access videos for this course module using [Setup labs on Ubuntu 18.04 VM on GCP using Docker to learn Python and SQL](https://www.youtube.com/playlist?list=PLf0swTFhTI8qOGXb3e6BmqHGQ-tnsP51q)"
   ]
  },
  {
   "cell_type": "markdown",
   "metadata": {},
   "source": [
    "## Signing up for GCP\n",
    "\n",
    "GCP is one of the leading cloud provider. We will be primarily using it to get hands on with respect to several skills such as Linux, Python, SQL etc over the duration of this course as well as other courses."
   ]
  },
  {
   "cell_type": "code",
   "execution_count": 1,
   "metadata": {
    "tags": [
     "remove-input"
    ]
   },
   "outputs": [
    {
     "data": {
      "text/html": [
       "<iframe width=\"560\" height=\"315\" src=\"https://www.youtube.com/embed/ETZJln4jtAo?rel=0&amp;controls=1&amp;showinfo=0\" frameborder=\"0\" allowfullscreen></iframe>\n"
      ],
      "text/plain": [
       "<IPython.core.display.HTML object>"
      ]
     },
     "metadata": {},
     "output_type": "display_data"
    }
   ],
   "source": [
    "%%HTML\n",
    "<iframe width=\"560\" height=\"315\" src=\"https://www.youtube.com/embed/ETZJln4jtAo?rel=0&amp;controls=1&amp;showinfo=0\" frameborder=\"0\" allowfullscreen></iframe>"
   ]
  },
  {
   "cell_type": "markdown",
   "metadata": {},
   "source": [
    "* Google provides USD 300 credit for one year to try out GCP.\n",
    "* Go to [Google Cloud](https://cloud.google.com) and complete sign up process.\n",
    "* Make sure to avail USD 300 credit.\n",
    "* Once you complete the sign up process you will get access to Web Console of GCP."
   ]
  },
  {
   "cell_type": "markdown",
   "metadata": {},
   "source": [
    "## Understanding GCP Web Console\n",
    "\n",
    "Let us have some basic idea about GCP Web Console."
   ]
  },
  {
   "cell_type": "code",
   "execution_count": 2,
   "metadata": {
    "tags": [
     "remove-input"
    ]
   },
   "outputs": [
    {
     "data": {
      "text/html": [
       "<iframe width=\"560\" height=\"315\" src=\"https://www.youtube.com/embed/1OVHjHTkP3M?rel=0&amp;controls=1&amp;showinfo=0\" frameborder=\"0\" allowfullscreen></iframe>\n"
      ],
      "text/plain": [
       "<IPython.core.display.HTML object>"
      ]
     },
     "metadata": {},
     "output_type": "display_data"
    }
   ],
   "source": [
    "%%HTML\n",
    "<iframe width=\"560\" height=\"315\" src=\"https://www.youtube.com/embed/1OVHjHTkP3M?rel=0&amp;controls=1&amp;showinfo=0\" frameborder=\"0\" allowfullscreen></iframe>"
   ]
  },
  {
   "cell_type": "markdown",
   "metadata": {},
   "source": [
    "* We can use GCP Web Console for managing Google Cloud Infrastructure. Here I am highlighting some of them.\n",
    "  * Provision Virtual Machines\n",
    "  * Deploy Applications\n",
    "  * Leverage Existing out of the box services\n",
    "* We should also know how to get billing details. You can go to Billing Section and should be able review the credits.\n",
    "* For this section, we will be primarily focusing on these.\n",
    "  * Provision Virtual Machine\n",
    "  * Stop and Start Virtual Machine\n",
    "  * Make sure to configure firewalls for the virtual machine created."
   ]
  },
  {
   "cell_type": "markdown",
   "metadata": {},
   "source": [
    "## Overview of GCP Pricing\n",
    "\n",
    "It is very important to spend some time and understand the pricing of GCP for the virtual machine."
   ]
  },
  {
   "cell_type": "code",
   "execution_count": 3,
   "metadata": {
    "tags": [
     "remove-input"
    ]
   },
   "outputs": [
    {
     "data": {
      "text/html": [
       "<iframe width=\"560\" height=\"315\" src=\"https://www.youtube.com/embed/qfUbPLsLQcQ?rel=0&amp;controls=1&amp;showinfo=0\" frameborder=\"0\" allowfullscreen></iframe>\n"
      ],
      "text/plain": [
       "<IPython.core.display.HTML object>"
      ]
     },
     "metadata": {},
     "output_type": "display_data"
    }
   ],
   "source": [
    "%%HTML\n",
    "<iframe width=\"560\" height=\"315\" src=\"https://www.youtube.com/embed/qfUbPLsLQcQ?rel=0&amp;controls=1&amp;showinfo=0\" frameborder=\"0\" allowfullscreen></iframe>"
   ]
  },
  {
   "cell_type": "markdown",
   "metadata": {},
   "source": [
    "* GCP Provides Pricing Calculator to estimate the cost.\n",
    "* Here is the configuration for our Virtual Machine.\n",
    "  * 16 GB RAM\n",
    "  * At least 4 core CPU\n",
    "  * 60 GB Storage\n",
    "* For Storage, we will have fixed cost as long as it is provisioned.\n",
    "* For Virtual Machine (CPU and Memory), we will be paying only for the time for which the Virtual Machine is up and running.\n",
    "* Best Practices to get most out of the credit or to reduce the cost of using GCP.\n",
    "  * Ensure that you stop the Virtual Machine when you are not using.\n",
    "  * Make sure to use static ip address (incurs a nominal fixed cost).\n",
    "  * Make sure to open only those ports that are relevant to you (to avoid attacks)."
   ]
  },
  {
   "cell_type": "markdown",
   "metadata": {},
   "source": [
    "## Provision Ubuntu 18.04 Virtual Machine\n",
    "\n",
    "As we got GCP account and understood pricing, now it is time to provision Ubuntu 18.04 Virtual Machine."
   ]
  },
  {
   "cell_type": "code",
   "execution_count": 4,
   "metadata": {
    "tags": [
     "remove-input"
    ]
   },
   "outputs": [
    {
     "data": {
      "text/html": [
       "<iframe width=\"560\" height=\"315\" src=\"https://www.youtube.com/embed/rLTbhSaXhSM?rel=0&amp;controls=1&amp;showinfo=0\" frameborder=\"0\" allowfullscreen></iframe>\n"
      ],
      "text/plain": [
       "<IPython.core.display.HTML object>"
      ]
     },
     "metadata": {},
     "output_type": "display_data"
    }
   ],
   "source": [
    "%%HTML\n",
    "<iframe width=\"560\" height=\"315\" src=\"https://www.youtube.com/embed/rLTbhSaXhSM?rel=0&amp;controls=1&amp;showinfo=0\" frameborder=\"0\" allowfullscreen></iframe>"
   ]
  },
  {
   "cell_type": "markdown",
   "metadata": {},
   "source": [
    "* Setup Virtual Machine\n",
    "* Connect to Virtual Machine using Web Console.\n",
    "* Configure Static ip to the Virtual Machine so that the public ip does not change on reboot."
   ]
  },
  {
   "cell_type": "markdown",
   "metadata": {},
   "source": [
    "## Setup Docker\n",
    "Let us setup docker. We will be using it to create Database required for this course."
   ]
  },
  {
   "cell_type": "code",
   "execution_count": 5,
   "metadata": {
    "tags": [
     "remove-input"
    ]
   },
   "outputs": [
    {
     "data": {
      "text/html": [
       "<iframe width=\"560\" height=\"315\" src=\"https://www.youtube.com/embed/wP7BhXrJKR8?rel=0&amp;controls=1&amp;showinfo=0\" frameborder=\"0\" allowfullscreen></iframe>\n"
      ],
      "text/plain": [
       "<IPython.core.display.HTML object>"
      ]
     },
     "metadata": {},
     "output_type": "display_data"
    }
   ],
   "source": [
    "%%HTML\n",
    "<iframe width=\"560\" height=\"315\" src=\"https://www.youtube.com/embed/wP7BhXrJKR8?rel=0&amp;controls=1&amp;showinfo=0\" frameborder=\"0\" allowfullscreen></iframe>"
   ]
  },
  {
   "cell_type": "markdown",
   "metadata": {},
   "source": [
    "* Go to this [link](https://www.digitalocean.com/community/tutorials/how-to-install-and-use-docker-on-ubuntu-18-04) and follow the instructions to setup Docker.\n",
    "* Make sure to add the user to `docker` group so that we do not have to use `sudo` to manage Docker related components such as images, containers etc.\n",
    "* Let us validate docker by creating simple **Hello World** Container.\n",
    "* Here are the commands to setup docker and validate. Make sure to run these commands one at a time.\n",
    "\n",
    "```shell\n",
    "sudo apt update\n",
    "sudo apt install apt-transport-https ca-certificates curl software-properties-common -y\n",
    "curl -fsSL https://download.docker.com/linux/ubuntu/gpg | sudo apt-key add -\n",
    "sudo add-apt-repository \"deb [arch=amd64] https://download.docker.com/linux/ubuntu bionic stable\"\n",
    "sudo apt update\n",
    "apt-cache policy docker-ce\n",
    "sudo apt install docker-ce -y\n",
    "\n",
    "sudo systemctl status docker # Validates that docker is started\n",
    "\n",
    "sudo usermod -aG docker ${USER}\n",
    "\n",
    "docker run hello-world\n",
    "```"
   ]
  },
  {
   "cell_type": "markdown",
   "metadata": {},
   "source": [
    "## Validating Python\n",
    "\n",
    "Let us validate Python on Ubuntu VM that is provisioned."
   ]
  },
  {
   "cell_type": "code",
   "execution_count": 6,
   "metadata": {
    "tags": [
     "remove-input"
    ]
   },
   "outputs": [
    {
     "data": {
      "text/html": [
       "<iframe width=\"560\" height=\"315\" src=\"https://www.youtube.com/embed/L-72r4mxhZI?rel=0&amp;controls=1&amp;showinfo=0\" frameborder=\"0\" allowfullscreen></iframe>\n"
      ],
      "text/plain": [
       "<IPython.core.display.HTML object>"
      ]
     },
     "metadata": {},
     "output_type": "display_data"
    }
   ],
   "source": [
    "%%HTML\n",
    "<iframe width=\"560\" height=\"315\" src=\"https://www.youtube.com/embed/L-72r4mxhZI?rel=0&amp;controls=1&amp;showinfo=0\" frameborder=\"0\" allowfullscreen></iframe>"
   ]
  },
  {
   "cell_type": "markdown",
   "metadata": {},
   "source": [
    "* By default, Ubuntu 18.04 VM will have Python3 installed. You can run `python3` and launch Python CLI.\n",
    "* However, there might not be additional important modules such as pip, venv etc.\n",
    "* We need to validate and ensure that they are installed. If `pip` and `venv` are not installed you can install them using these commands.\n",
    "\n",
    "```shell\n",
    "sudo apt install python3-pip -y\n",
    "python3 -m pip install configparser\n",
    "\n",
    "sudo apt install python3-venv -y\n",
    "python3 -m venv testing\n",
    "ls -ltr\n",
    "rm -rf testing\n",
    "```"
   ]
  },
  {
   "cell_type": "markdown",
   "metadata": {
    "pycharm": {
     "name": "#%% md\n"
    }
   },
   "source": [
    "## Setup Jupyter Lab\n",
    "\n",
    "Let us setup Jupyter Lab on Ubuntu VM. This will also facilitate you to understand firewall configuration in GCP."
   ]
  },
  {
   "cell_type": "code",
   "execution_count": 7,
   "metadata": {
    "tags": [
     "remove-input"
    ]
   },
   "outputs": [
    {
     "data": {
      "text/html": [
       "<iframe width=\"560\" height=\"315\" src=\"https://www.youtube.com/embed/f4V6Gg3ybFw?rel=0&amp;controls=1&amp;showinfo=0\" frameborder=\"0\" allowfullscreen></iframe>\n"
      ],
      "text/plain": [
       "<IPython.core.display.HTML object>"
      ]
     },
     "metadata": {},
     "output_type": "display_data"
    }
   ],
   "source": [
    "%%HTML\n",
    "<iframe width=\"560\" height=\"315\" src=\"https://www.youtube.com/embed/f4V6Gg3ybFw?rel=0&amp;controls=1&amp;showinfo=0\" frameborder=\"0\" allowfullscreen></iframe>"
   ]
  },
  {
   "cell_type": "markdown",
   "metadata": {
    "pycharm": {
     "name": "#%% md\n"
    }
   },
   "source": [
    "* Create Python based virtual environment - `python3 -m venv demojl`\n",
    "* Activate virtual environment - `source demojl/bin/activate`\n",
    "* Install required dependencies for Jupyter Lab - `pip install jupyterlab`\n",
    "* Launch Jupyter Lab - `jupyter lab --ip 0.0.0.0`\n",
    "* At this time, you will not be able to access Jupyter Lab\n",
    "* Go to firewall and open the port using GCP Web Console\n",
    "* Now enter the ip address and port number to access the Jupyter Lab UI."
   ]
  },
  {
   "cell_type": "code",
   "execution_count": null,
   "metadata": {},
   "outputs": [],
   "source": []
  }
 ],
 "metadata": {
  "kernelspec": {
   "display_name": "Python 3",
   "language": "python",
   "name": "python3"
  },
  "language_info": {
   "codemirror_mode": {
    "name": "ipython",
    "version": 3
   },
   "file_extension": ".py",
   "mimetype": "text/x-python",
   "name": "python",
   "nbconvert_exporter": "python",
   "pygments_lexer": "ipython3",
   "version": "3.6.12"
  }
 },
 "nbformat": 4,
 "nbformat_minor": 4
}

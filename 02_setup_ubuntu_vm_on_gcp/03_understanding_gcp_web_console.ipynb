{
 "cells": [
  {
   "cell_type": "markdown",
   "metadata": {},
   "source": [
    "## Understanding GCP Web Console\n",
    "\n",
    "Let us have some basic idea about GCP Web Console."
   ]
  },
  {
   "cell_type": "code",
   "execution_count": 1,
   "metadata": {
    "tags": [
     "remove-cell"
    ]
   },
   "outputs": [
    {
     "data": {
      "text/html": [
       "<iframe width=\"560\" height=\"315\" src=\"https://www.youtube.com/embed/1OVHjHTkP3M?rel=0&amp;controls=1&amp;showinfo=0\" frameborder=\"0\" allowfullscreen></iframe>\n"
      ],
      "text/plain": [
       "<IPython.core.display.HTML object>"
      ]
     },
     "metadata": {},
     "output_type": "display_data"
    }
   ],
   "source": [
    "%%HTML\n",
    "<iframe width=\"560\" height=\"315\" src=\"https://www.youtube.com/embed/1OVHjHTkP3M?rel=0&amp;controls=1&amp;showinfo=0\" frameborder=\"0\" allowfullscreen></iframe>"
   ]
  },
  {
   "cell_type": "markdown",
   "metadata": {},
   "source": [
    "* We can use GCP Web Console for managing Google Cloud Infrastructure. Here I am highlighting some of them.\n",
    "  * Provision Virtual Machines\n",
    "  * Deploy Applications\n",
    "  * Leverage Existing out of the box services\n",
    "* We should also know how to get billing details. You can go to Billing Section and should be able review the credits.\n",
    "* For this section, we will be primarily focusing on these.\n",
    "  * Provision Virtual Machine\n",
    "  * Stop and Start Virtual Machine\n",
    "  * Make sure to configure firewalls for the virtual machine created."
   ]
  }
 ],
 "metadata": {
  "kernelspec": {
   "display_name": "Python 3",
   "language": "python",
   "name": "python3"
  },
  "language_info": {
   "codemirror_mode": {
    "name": "ipython",
    "version": 3
   },
   "file_extension": ".py",
   "mimetype": "text/x-python",
   "name": "python",
   "nbconvert_exporter": "python",
   "pygments_lexer": "ipython3",
   "version": "3.7.9"
  }
 },
 "nbformat": 4,
 "nbformat_minor": 4
}

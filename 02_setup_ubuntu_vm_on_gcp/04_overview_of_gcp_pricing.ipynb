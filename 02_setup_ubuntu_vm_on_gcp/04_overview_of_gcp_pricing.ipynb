{
 "cells": [
  {
   "cell_type": "markdown",
   "metadata": {},
   "source": [
    "## Overview of GCP Pricing\n",
    "\n",
    "It is very important to spend some time and understand the pricing of GCP for the virtual machine."
   ]
  },
  {
   "cell_type": "code",
   "execution_count": 1,
   "metadata": {
    "tags": [
     "remove-input"
    ]
   },
   "outputs": [
    {
     "data": {
      "text/html": [
       "<iframe width=\"560\" height=\"315\" src=\"https://www.youtube.com/embed/qfUbPLsLQcQ?rel=0&amp;controls=1&amp;showinfo=0\" frameborder=\"0\" allowfullscreen></iframe>\n"
      ],
      "text/plain": [
       "<IPython.core.display.HTML object>"
      ]
     },
     "metadata": {},
     "output_type": "display_data"
    }
   ],
   "source": [
    "%%HTML\n",
    "<iframe width=\"560\" height=\"315\" src=\"https://www.youtube.com/embed/qfUbPLsLQcQ?rel=0&amp;controls=1&amp;showinfo=0\" frameborder=\"0\" allowfullscreen></iframe>"
   ]
  },
  {
   "cell_type": "markdown",
   "metadata": {},
   "source": [
    "* GCP Provides Pricing Calculator to estimate the cost.\n",
    "* Here is the configuration for our Virtual Machine.\n",
    "  * 16 GB RAM\n",
    "  * At least 4 core CPU\n",
    "  * 60 GB Storage\n",
    "* For Storage, we will have fixed cost as long as it is provisioned.\n",
    "* For Virtual Machine (CPU and Memory), we will be paying only for the time for which the Virtual Machine is up and running.\n",
    "* Best Practices to get most out of the credit or to reduce the cost of using GCP.\n",
    "  * Ensure that you stop the Virtual Machine when you are not using.\n",
    "  * Make sure to use static ip address (incurs a nominal fixed cost).\n",
    "  * Make sure to open only those ports that are relevant to you (to avoid attacks)."
   ]
  }
 ],
 "metadata": {
  "kernelspec": {
   "display_name": "Python 3",
   "language": "python",
   "name": "python3"
  },
  "language_info": {
   "codemirror_mode": {
    "name": "ipython",
    "version": 3
   },
   "file_extension": ".py",
   "mimetype": "text/x-python",
   "name": "python",
   "nbconvert_exporter": "python",
   "pygments_lexer": "ipython3",
   "version": "3.7.9"
  }
 },
 "nbformat": 4,
 "nbformat_minor": 4
}

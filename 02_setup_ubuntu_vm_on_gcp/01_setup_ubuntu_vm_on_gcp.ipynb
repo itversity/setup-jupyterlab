{
 "cells": [
  {
   "cell_type": "markdown",
   "metadata": {},
   "source": [
    "# Setup Ubuntu VM on GCP\n",
    "\n",
    "* Signing up for GCP\n",
    "* Understanding GCP Web Console\n",
    "* Overview of GCP Pricing\n",
    "* Provision Ubuntu 18.04 Virtual Machine\n",
    "* Setup Docker \n",
    "* Validating Python \n",
    "* Setup Jupyter Lab\n",
    "\n",
    "You can access videos for this course module using [Setup labs on Ubuntu 18.04 VM on GCP using Docker to learn Python and SQL](https://www.youtube.com/playlist?list=PLf0swTFhTI8qOGXb3e6BmqHGQ-tnsP51q)"
   ]
  }
 ],
 "metadata": {
  "kernelspec": {
   "display_name": "Python 3",
   "language": "python",
   "name": "python3"
  },
  "language_info": {
   "codemirror_mode": {
    "name": "ipython",
    "version": 3
   },
   "file_extension": ".py",
   "mimetype": "text/x-python",
   "name": "python",
   "nbconvert_exporter": "python",
   "pygments_lexer": "ipython3",
   "version": "3.7.9"
  }
 },
 "nbformat": 4,
 "nbformat_minor": 4
}

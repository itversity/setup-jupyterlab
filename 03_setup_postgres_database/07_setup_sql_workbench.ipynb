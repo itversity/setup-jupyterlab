{
 "cells": [
  {
   "cell_type": "markdown",
   "metadata": {},
   "source": [
    "## Setup SQL Workbench\n",
    "\n",
    "Let us understand how to setup and use SQL Workbench."
   ]
  },
  {
   "cell_type": "code",
   "execution_count": 1,
   "metadata": {},
   "outputs": [
    {
     "data": {
      "text/html": [
       "<iframe width=\"560\" height=\"315\" src=\"https://www.youtube.com/embed/HafnO2hryP0?rel=0&amp;controls=1&amp;showinfo=0\" frameborder=\"0\" allowfullscreen></iframe>\n"
      ],
      "text/plain": [
       "<IPython.core.display.HTML object>"
      ]
     },
     "metadata": {},
     "output_type": "display_data"
    }
   ],
   "source": [
    "%%HTML\n",
    "<iframe width=\"560\" height=\"315\" src=\"https://www.youtube.com/embed/HafnO2hryP0?rel=0&amp;controls=1&amp;showinfo=0\" frameborder=\"0\" allowfullscreen></iframe>"
   ]
  },
  {
   "cell_type": "markdown",
   "metadata": {},
   "source": [
    "**Why SQL Workbench**\n",
    "\n",
    "Let us see the details why we might have to use SQL Workbench.\n",
    "* Using Database CLIs such as psql for postgres, mysql etc can be cumbersome for those who are not comfortable with command line interfaces.\n",
    "* Database IDEs such as SQL Workbench will provide required features to run queries against databases with out worrying to much about underlying data dictionaries.\n",
    "* SQL Workbench provide required features to review databases and objects with out writing queries or running database specific commands.\n",
    "* Also Database IDEs provide capabilities to preserve the scripts we develop.\n",
    "> **In short Database IDEs such as SQL Workbench improves productivity.**\n",
    "\n",
    "**Alternative IDEs**\n",
    "\n",
    "There are several IDEs in the market.\n",
    "* TOAD\n",
    "* SQL Developer for Oracle\n",
    "* MySQL Workbench\n",
    "and many others\n",
    "\n",
    "**Install SQL Workbench**\n",
    "\n",
    "Here are the instructions to setup SQL Workbench.\n",
    "* Download SQL Workbench (typically zip file)\n",
    "* Unzip and launch\n",
    "\n",
    "Once installed we need to perform below steps which will be covered in detail as part of next topic.\n",
    "* Download JDBC driver for the database we would like to connect.\n",
    "* Get the database connectivity information and connect to the database."
   ]
  }
 ],
 "metadata": {
  "kernelspec": {
   "display_name": "Python 3",
   "language": "python",
   "name": "python3"
  },
  "language_info": {
   "codemirror_mode": {
    "name": "ipython",
    "version": 3
   },
   "file_extension": ".py",
   "mimetype": "text/x-python",
   "name": "python",
   "nbconvert_exporter": "python",
   "pygments_lexer": "ipython3",
   "version": "3.7.9"
  }
 },
 "nbformat": 4,
 "nbformat_minor": 4
}

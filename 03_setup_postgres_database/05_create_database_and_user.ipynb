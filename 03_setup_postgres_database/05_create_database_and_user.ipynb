{
 "cells": [
  {
   "cell_type": "markdown",
   "metadata": {},
   "source": [
    "## Create Database and User\n",
    "\n",
    "Let us create **database** and **user** using `psql` CLI."
   ]
  },
  {
   "cell_type": "code",
   "execution_count": 1,
   "metadata": {
    "tags": [
     "remove-cell"
    ]
   },
   "outputs": [
    {
     "data": {
      "text/html": [
       "<iframe width=\"560\" height=\"315\" src=\"https://www.youtube.com/embed/YRHiZWfvwWc?rel=0&amp;controls=1&amp;showinfo=0\" frameborder=\"0\" allowfullscreen></iframe>\n"
      ],
      "text/plain": [
       "<IPython.core.display.HTML object>"
      ]
     },
     "metadata": {},
     "output_type": "display_data"
    }
   ],
   "source": [
    "%%HTML\n",
    "<iframe width=\"560\" height=\"315\" src=\"https://www.youtube.com/embed/YRHiZWfvwWc?rel=0&amp;controls=1&amp;showinfo=0\" frameborder=\"0\" allowfullscreen></iframe>"
   ]
  },
  {
   "cell_type": "markdown",
   "metadata": {},
   "source": [
    "* Postgres is multi tenant database.\n",
    "* We typically follow these steps to create a database which can be used by connecting as specific user.\n",
    "  * Connect to postgres server as user postgres (super user)\n",
    "  * Create database - `sms_db`\n",
    "  * Create user with password - `sms_user`\n",
    "  * Grant permissions on database to user\n",
    "  \n",
    "```shell\n",
    "docker exec -it itv_pg psql -U postgres\n",
    "```\n",
    "\n",
    "```sql\n",
    "CREATE DATABASE sms_db;\n",
    "CREATE USER sms_user WITH ENCRYPTED PASSWORD 'sms_password';\n",
    "GRANT ALL ON DATABASE sms_db TO sms_user;\n",
    "\n",
    "\\l --to list databases\n",
    "\\q --to quit from postgres CLI\n",
    "```\n",
    "\n",
    "* Make sure to validate by connecting using sms_user.\n",
    "> When we use psql directly with in the container, you might be able to connect to database even with out password. Don't worry about it for now.\n",
    "\n",
    "> Connect to postgres using newly created user\n",
    "\n",
    "```shell\n",
    "docker exec -it itv_pg psql -U sms_user -d sms_db -W\n",
    "```\n",
    "\n",
    "```sql\n",
    "SELECT current_database();\n",
    "CREATE TABLE t (i INT);\n",
    "INSERT INTO t VALUES (1);\n",
    "SELECT * FROM t;\n",
    "\n",
    "\\d\n",
    "\\d t\n",
    "\n",
    "DROP TABLE t;\n",
    "```"
   ]
  }
 ],
 "metadata": {
  "kernelspec": {
   "display_name": "Python 3",
   "language": "python",
   "name": "python3"
  },
  "language_info": {
   "codemirror_mode": {
    "name": "ipython",
    "version": 3
   },
   "file_extension": ".py",
   "mimetype": "text/x-python",
   "name": "python",
   "nbconvert_exporter": "python",
   "pygments_lexer": "ipython3",
   "version": "3.6.12"
  }
 },
 "nbformat": 4,
 "nbformat_minor": 4
}

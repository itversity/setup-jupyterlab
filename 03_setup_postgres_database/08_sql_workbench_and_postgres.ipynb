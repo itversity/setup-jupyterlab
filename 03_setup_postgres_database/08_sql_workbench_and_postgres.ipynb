{
 "cells": [
  {
   "cell_type": "markdown",
   "metadata": {
    "tags": [
     "remove-cell"
    ]
   },
   "source": [
    "## SQL Workbench and Postgres\n",
    "\n",
    "Let us connect to Postgres Database using SQL Workbench."
   ]
  },
  {
   "cell_type": "code",
   "execution_count": 1,
   "metadata": {},
   "outputs": [
    {
     "data": {
      "text/html": [
       "<iframe width=\"560\" height=\"315\" src=\"https://www.youtube.com/embed/Cz2FHb0ElYA?rel=0&amp;controls=1&amp;showinfo=0\" frameborder=\"0\" allowfullscreen></iframe>\n"
      ],
      "text/plain": [
       "<IPython.core.display.HTML object>"
      ]
     },
     "metadata": {},
     "output_type": "display_data"
    }
   ],
   "source": [
    "%%HTML\n",
    "<iframe width=\"560\" height=\"315\" src=\"https://www.youtube.com/embed/Cz2FHb0ElYA?rel=0&amp;controls=1&amp;showinfo=0\" frameborder=\"0\" allowfullscreen></iframe>"
   ]
  },
  {
   "cell_type": "markdown",
   "metadata": {},
   "source": [
    "* Download the JDBC Driver\n",
    "* Get the database connectivity information\n",
    "* Configure the connection using SQL Workbench\n",
    "* Validate the connection and save the profile"
   ]
  },
  {
   "cell_type": "markdown",
   "metadata": {},
   "source": [
    "### Postgres on Docker\n",
    "\n",
    "Here are the steps to connect to Postgres running as part of Docker container. You can go through the steps of dowloading the JDBC Driver as part of this [video](https://www.youtube.com/embed/IRRoAphUJmw?rel=0&amp;controls=1&amp;showinfo=0). This also covers how to connect to existing remote Postgres databases using SQL Workbench.\n",
    "\n",
    "* We are trying to connect to Postgres Database that is running as part of Docker container running in a Ubuntu 18.04 VM provisioned from GCP.\n",
    "* We have published Postgres database port to port 5432 on Ubuntu 18.04 VM.\n",
    "* We typically use ODBC or JDBC to connect to a Database from remote machines (our PC).\n",
    "* Here are the pre-requisites to connect to a Database on GCP.\n",
    "  * Make sure 5432 port is opened as part of the firewalls.\n",
    "  * If you have telnet configured on your system on which SQL Workbench is installed, make sure to validate by running telnet command using ip or DNS Alias and port number 5432.\n",
    "  * Ensure that you have downloaded right JDBC Driver for Postgres.\n",
    "  * Make sure to have right credentials (username and password).\n",
    "  * Ensure that you have database created on which the user have permissions.\n",
    "* You can validate credentials and permissions to the database by installing postgres client on Ubuntu 18.04 VM and then by connecting to the database using the credentials.\n",
    "* Once you have all the information required along with JDBC jar, ensure to save the information as part of the profile. You can also validate before saving the details by using **Test** option."
   ]
  }
 ],
 "metadata": {
  "kernelspec": {
   "display_name": "Python 3",
   "language": "python",
   "name": "python3"
  },
  "language_info": {
   "codemirror_mode": {
    "name": "ipython",
    "version": 3
   },
   "file_extension": ".py",
   "mimetype": "text/x-python",
   "name": "python",
   "nbconvert_exporter": "python",
   "pygments_lexer": "ipython3",
   "version": "3.6.12"
  }
 },
 "nbformat": 4,
 "nbformat_minor": 4
}

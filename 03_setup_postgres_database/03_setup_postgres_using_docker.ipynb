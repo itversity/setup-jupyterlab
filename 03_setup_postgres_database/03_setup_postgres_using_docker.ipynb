{
 "cells": [
  {
   "cell_type": "markdown",
   "metadata": {},
   "source": [
    "## Setup Postgres using Docker\n",
    "\n",
    "In some cases you might want to have postgres setup on your machine. Let us understand how we can setup Postgres using Docker."
   ]
  },
  {
   "cell_type": "code",
   "execution_count": 1,
   "metadata": {},
   "outputs": [
    {
     "data": {
      "text/html": [
       "<iframe width=\"560\" height=\"315\" src=\"https://www.youtube.com/embed/VF4oAET-GwE?rel=0&amp;controls=1&amp;showinfo=0\" frameborder=\"0\" allowfullscreen></iframe>\n"
      ],
      "text/plain": [
       "<IPython.core.display.HTML object>"
      ]
     },
     "metadata": {},
     "output_type": "display_data"
    }
   ],
   "source": [
    "%%HTML\n",
    "<iframe width=\"560\" height=\"315\" src=\"https://www.youtube.com/embed/VF4oAET-GwE?rel=0&amp;controls=1&amp;showinfo=0\" frameborder=\"0\" allowfullscreen></iframe>"
   ]
  },
  {
   "cell_type": "markdown",
   "metadata": {},
   "source": [
    "* If you are using our labs, the database will be pre-created by us with all the right permissions.\n",
    "* If you are using Windows or Mac, ensure that you have installed Docker Desktop.\n",
    "* If you are using Ubuntu based desktop, make sure to setup Docker.\n",
    "* Here are the steps that can be used to setup Postgres database using Docker.\n",
    "  * Pull the postgres image using `docker pull`\n",
    "  * Create the container using `docker create`.\n",
    "  * Start the container using `docker start`.\n",
    "  * Alternatively we can use `docker run` which will pull, create and start the container.\n",
    "  * Use `docker logs` or `docker logs -f` to review the logs to ensure Postgres Server is up and running.\n",
    "\n",
    "```shell\n",
    "docker pull postgres\n",
    "\n",
    "docker container create \\\n",
    "    --name itv_pg \\\n",
    "    -p 5432:5432 \\\n",
    "    -h itv_pg \\\n",
    "    -e POSTGRES_PASSWORD=itversity \\\n",
    "    postgres\n",
    "\n",
    "docker start itv_pg\n",
    "\n",
    "docker logs itv_pg\n",
    "```\n",
    "* You can connect to Postgres Database setup using Docker with `docker exec`.\n",
    "\n",
    "```shell\n",
    "docker exec \\\n",
    "    -it itv_pg \\\n",
    "    psql -U postgres\n",
    "```\n",
    "\n",
    "* You can also connecto to Postgres directly with out using `docker exec`.\n",
    "\n",
    "```shell\n",
    "psql -h localhost \\\n",
    "    -p 5432 \\\n",
    "    -d postgres \\\n",
    "    -U postgres \\\n",
    "    -W\n",
    "```"
   ]
  }
 ],
 "metadata": {
  "kernelspec": {
   "display_name": "Python 3",
   "language": "python",
   "name": "python3"
  },
  "language_info": {
   "codemirror_mode": {
    "name": "ipython",
    "version": 3
   },
   "file_extension": ".py",
   "mimetype": "text/x-python",
   "name": "python",
   "nbconvert_exporter": "python",
   "pygments_lexer": "ipython3",
   "version": "3.7.9"
  }
 },
 "nbformat": 4,
 "nbformat_minor": 4
}

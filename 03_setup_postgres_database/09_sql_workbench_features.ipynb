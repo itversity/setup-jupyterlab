{
 "cells": [
  {
   "cell_type": "markdown",
   "metadata": {},
   "source": [
    "## SQL Workbench Features\n",
    "\n",
    "Here are some of the key features, you have to familiar with related to SQL Workbench."
   ]
  },
  {
   "cell_type": "code",
   "execution_count": 1,
   "metadata": {},
   "outputs": [
    {
     "data": {
      "text/html": [
       "<iframe width=\"560\" height=\"315\" src=\"https://www.youtube.com/embed/7vPJ7TKNQE4?rel=0&amp;controls=1&amp;showinfo=0\" frameborder=\"0\" allowfullscreen></iframe>\n"
      ],
      "text/plain": [
       "<IPython.core.display.HTML object>"
      ]
     },
     "metadata": {},
     "output_type": "display_data"
    }
   ],
   "source": [
    "%%HTML\n",
    "<iframe width=\"560\" height=\"315\" src=\"https://www.youtube.com/embed/7vPJ7TKNQE4?rel=0&amp;controls=1&amp;showinfo=0\" frameborder=\"0\" allowfullscreen></iframe>"
   ]
  },
  {
   "cell_type": "markdown",
   "metadata": {},
   "source": [
    "* Ability to connect to different RDBMS, Data Warehouse and MPP Database servers such as Postgres, MySQL, Oracle, Redshift etc.\n",
    "* Saving profiles to connect to multiple databases.\n",
    "* Ability to access data dictionary or information schema using wizards to validate tables, columns, sequences, indexes, constraints etc.\n",
    "* Generate scripts out of existing data.\n",
    "* Ability to manage database objects with out writing any commands. We can drop tables, indexes, sequences etc by right clicking and then selecting drop option.\n",
    "* Develop SQL files and preserve them for future usage.\n",
    "\n",
    "Almost all leading IDEs provide all these features in similar fashion.\n",
    "\n",
    "**Usage Scenarios**\n",
    "\n",
    "Here are **some of the usage scenarios** for database IDEs such as SQL Workbench as part of day to day responsibilities.\n",
    "* Developers for generating and validating data as part of unit testing.\n",
    "* Testers to validate data for their test cases.\n",
    "* Business Analysts and Data Analysts to run ad hoc queries to understand the data better.\n",
    "* Developers to troubleshoot data related to production issues using read only accounts."
   ]
  },
  {
   "cell_type": "markdown",
   "metadata": {},
   "source": [
    "## Troubleshooting Issues\n",
    "\n",
    "Let us understand how to troubleshoot common database connectivity issues related to Postgres DB.\n",
    "\n",
    "* We need to have telnet or nc on the machine from which we are trying to connect to database to troubleshoot the issues.\n",
    "* Host not reachable - Root causes\n",
    "  * Typo in the host\n",
    "  * Using Private ip instead of public ip\n",
    "  * Might be blocked by the firewall\n",
    "* Unable to authenticate - Root causes\n",
    "  * Incorrect username or password\n",
    "  * Incorrect Hostname or Port Number\n",
    "  * Insufficient privileges for the user over the database\n",
    "  * Incorrect Database Name\n",
    "* Here are the following things you need to keep in mind while connecting to database running in docker container created in Ubuntu 18.04 Virtual Machine using GCP.\n",
    "\n",
    "```shell\n",
    "docker container create \\\n",
    "  --name itv_pg \\\n",
    "  -p 5432:5432 \\\n",
    "  -h itv_pg \\\n",
    "  -e POSTGRES_PASSWORD=itversity \\\n",
    "  postgres\n",
    "```\n",
    "\n",
    "  * Make sure port number used by Postgres database in the container is published to host. In our example it is 5432. Port 5432 in container is published to port 5432 on the host.\n",
    "  * Ensure that port is opened in network firewall for the Virtual Machine in GCP using GCP Web Console.\n",
    "  * If you have `telnet` on your machine from which you are trying to connect on VM in GCP, run `telnet` command by passing public ip of GCP VM and the port 5432."
   ]
  }
 ],
 "metadata": {
  "kernelspec": {
   "display_name": "Python 3",
   "language": "python",
   "name": "python3"
  },
  "language_info": {
   "codemirror_mode": {
    "name": "ipython",
    "version": 3
   },
   "file_extension": ".py",
   "mimetype": "text/x-python",
   "name": "python",
   "nbconvert_exporter": "python",
   "pygments_lexer": "ipython3",
   "version": "3.7.9"
  }
 },
 "nbformat": 4,
 "nbformat_minor": 4
}

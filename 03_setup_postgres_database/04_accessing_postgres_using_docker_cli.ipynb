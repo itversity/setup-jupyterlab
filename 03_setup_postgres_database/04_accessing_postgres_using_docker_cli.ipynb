{
 "cells": [
  {
   "cell_type": "markdown",
   "metadata": {},
   "source": [
    "## Accessing Postgres using Docker CLI\n",
    "\n",
    "Let us understand how to connect to Postgres Database running as part of docker container using Docker CLI."
   ]
  },
  {
   "cell_type": "code",
   "execution_count": 1,
   "metadata": {},
   "outputs": [
    {
     "data": {
      "text/html": [
       "<iframe width=\"560\" height=\"315\" src=\"https://www.youtube.com/embed/VIEkFUmBp6I?rel=0&amp;controls=1&amp;showinfo=0\" frameborder=\"0\" allowfullscreen></iframe>\n"
      ],
      "text/plain": [
       "<IPython.core.display.HTML object>"
      ]
     },
     "metadata": {},
     "output_type": "display_data"
    }
   ],
   "source": [
    "%%HTML\n",
    "<iframe width=\"560\" height=\"315\" src=\"https://www.youtube.com/embed/VIEkFUmBp6I?rel=0&amp;controls=1&amp;showinfo=0\" frameborder=\"0\" allowfullscreen></iframe>"
   ]
  },
  {
   "cell_type": "markdown",
   "metadata": {},
   "source": [
    "* We can use `docker container exec` or `docker exec` to connect to the container.\n",
    "* You can attach to the container by running `bash` using `docker exec`.\n",
    "* Also you can run single commands with out attaching the container - example: `docker exec -it itv_pg hostname -f`\n",
    "\n",
    "> You have to use terminal to run these commands\n",
    "\n",
    "* Attach to sms_db container - `docker exec -it itv_pg bash`\n",
    "* Run command to get hostname - `hostname -f`\n",
    "* Run command to connect to Postgres Database - `psql -U postgres`\n",
    "* You can also directly connect to Postgres Database using\n",
    "```\n",
    "docker exec -it itv_pg psql -U postgres\n",
    "```\n",
    "* Use `\\q` to come out of the Postgres CLI."
   ]
  }
 ],
 "metadata": {
  "kernelspec": {
   "display_name": "Python 3",
   "language": "python",
   "name": "python3"
  },
  "language_info": {
   "codemirror_mode": {
    "name": "ipython",
    "version": 3
   },
   "file_extension": ".py",
   "mimetype": "text/x-python",
   "name": "python",
   "nbconvert_exporter": "python",
   "pygments_lexer": "ipython3",
   "version": "3.7.9"
  }
 },
 "nbformat": 4,
 "nbformat_minor": 4
}

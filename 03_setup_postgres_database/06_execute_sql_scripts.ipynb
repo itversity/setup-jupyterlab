{
 "cells": [
  {
   "cell_type": "markdown",
   "metadata": {
    "pycharm": {
     "name": "#%% md\n"
    }
   },
   "source": [
    "## Execute SQL Scripts\n",
    "\n",
    "Let us understand how to execute SQL Scripts using psql. We will create new database and then run the scripts which are cloned from GitHub."
   ]
  },
  {
   "cell_type": "code",
   "execution_count": 1,
   "metadata": {
    "tags": [
     "remove-cell"
    ]
   },
   "outputs": [
    {
     "data": {
      "text/html": [
       "<iframe width=\"560\" height=\"315\" src=\"https://www.youtube.com/embed/C4aGtLCiOAY?rel=0&amp;controls=1&amp;showinfo=0\" frameborder=\"0\" allowfullscreen></iframe>\n"
      ],
      "text/plain": [
       "<IPython.core.display.HTML object>"
      ]
     },
     "metadata": {},
     "output_type": "display_data"
    }
   ],
   "source": [
    "%%HTML\n",
    "<iframe width=\"560\" height=\"315\" src=\"https://www.youtube.com/embed/C4aGtLCiOAY?rel=0&amp;controls=1&amp;showinfo=0\" frameborder=\"0\" allowfullscreen></iframe>"
   ]
  },
  {
   "cell_type": "markdown",
   "metadata": {
    "pycharm": {
     "name": "#%% md\n"
    }
   },
   "source": [
    "* Clone the GitHub repository on to the host.\n",
    "* Copy the folder which contain scripts to itv_pg container under root folder **/**.\n",
    "* Make sure **retail_db** database and **retail_user** user are created.\n",
    "* Run the appropriate scripts to create tables as well as to insert data.\n",
    "* Validate that tables are created and data is inserted by running simple queries.\n",
    "\n",
    "**Clone Repository**\n",
    "\n",
    "```shell\n",
    "# Make sure you are in the home directory in the host (not in the container)\n",
    "cd # to be in home directory\n",
    "git clone https://www.github.com/dgadiraju/retail_db.git\n",
    "```\n",
    "\n",
    "**Copy Script and Validate**\n",
    "\n",
    "```shell\n",
    "docker container cp retail_db itv_pg:/\n",
    "\n",
    "docker exec -it itv_pg ls -ltr /retail_db\n",
    "\n",
    "docker exec -it itv_pg psql -U postgres\n",
    "```\n",
    "\n",
    "**Create Database and User for retail_db**\n",
    "\n",
    "```shell\n",
    "docker exec -it itv_pg psql -U postgres\n",
    "```\n",
    "\n",
    "```sql\n",
    "CREATE DATABASE retail_db;\n",
    "CREATE USER retail_user WITH ENCRYPTED PASSWORD 'retail_password';\n",
    "GRANT ALL ON DATABASE retail_db TO retail_user;\n",
    "```\n",
    "\n",
    "**Create tables and copy data**\n",
    "\n",
    "We will be running script to create tables and copy data.\n",
    "\n",
    "```shell\n",
    "docker cp ~/retail_db itv_pg:/\n",
    "docker exec -it itv_pg psql -U retail_user -d retail_db -W\n",
    "\n",
    "\\i /retail_db/create_db_tables_pg.sql\n",
    "\n",
    "\\i /retail_db/load_db_tables_pg.sql\n",
    "```\n",
    "\n",
    "**Validate - Run Queries**\n",
    "\n",
    "Make sure you are in right database and run these queries.\n",
    "\n",
    "```shell\n",
    "docker exec -it itv_pg psql -U retail_user -d retail_db -W\n",
    "```\n",
    "\n",
    "```sql\n",
    "\\d\n",
    "\n",
    "\\d orders\n",
    "\n",
    "SELECT * FROM orders LIMIT 10;\n",
    "\n",
    "SELECT count(1) FROM orders;\n",
    "```"
   ]
  }
 ],
 "metadata": {
  "kernelspec": {
   "display_name": "Python 3",
   "language": "python",
   "name": "python3"
  },
  "language_info": {
   "codemirror_mode": {
    "name": "ipython",
    "version": 3
   },
   "file_extension": ".py",
   "mimetype": "text/x-python",
   "name": "python",
   "nbconvert_exporter": "python",
   "pygments_lexer": "ipython3",
   "version": "3.6.12"
  }
 },
 "nbformat": 4,
 "nbformat_minor": 4
}

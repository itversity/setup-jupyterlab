{
 "cells": [
  {
   "cell_type": "markdown",
   "metadata": {},
   "source": [
    "## Troubleshooting Issues\n",
    "\n",
    "Let us understand how to troubleshoot common database connectivity issues related to Postgres DB.\n",
    "\n",
    "* We need to have telnet or nc on the machine from which we are trying to connect to database to troubleshoot the issues.\n",
    "* Host not reachable - Root causes\n",
    "  * Typo in the host\n",
    "  * Using Private ip instead of public ip\n",
    "  * Might be blocked by the firewall\n",
    "* Unable to authenticate - Root causes\n",
    "  * Incorrect username or password\n",
    "  * Incorrect Hostname or Port Number\n",
    "  * Insufficient privileges for the user over the database\n",
    "  * Incorrect Database Name\n",
    "* Here are the following things you need to keep in mind while connecting to database running in docker container created in Ubuntu 18.04 Virtual Machine using GCP.\n",
    "\n",
    "```shell\n",
    "docker container create \\\n",
    "  --name itv_pg \\\n",
    "  -p 5432:5432 \\\n",
    "  -h itv_pg \\\n",
    "  -e POSTGRES_PASSWORD=itversity \\\n",
    "  postgres\n",
    "```\n",
    "\n",
    "  * Make sure port number used by Postgres database in the container is published to host. In our example it is 5432. Port 5432 in container is published to port 5432 on the host.\n",
    "  * Ensure that port is opened in network firewall for the Virtual Machine in GCP using GCP Web Console.\n",
    "  * If you have `telnet` on your machine from which you are trying to connect on VM in GCP, run `telnet` command by passing public ip of GCP VM and the port 5432."
   ]
  },
  {
   "cell_type": "code",
   "execution_count": null,
   "metadata": {},
   "outputs": [],
   "source": []
  }
 ],
 "metadata": {
  "kernelspec": {
   "display_name": "Python 3",
   "language": "python",
   "name": "python3"
  },
  "language_info": {
   "codemirror_mode": {
    "name": "ipython",
    "version": 3
   },
   "file_extension": ".py",
   "mimetype": "text/x-python",
   "name": "python",
   "nbconvert_exporter": "python",
   "pygments_lexer": "ipython3",
   "version": "3.6.12"
  }
 },
 "nbformat": 4,
 "nbformat_minor": 4
}

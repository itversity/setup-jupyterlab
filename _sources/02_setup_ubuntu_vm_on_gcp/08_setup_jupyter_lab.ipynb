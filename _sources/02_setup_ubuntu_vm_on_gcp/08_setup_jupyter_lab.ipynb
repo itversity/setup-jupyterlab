{
 "cells": [
  {
   "cell_type": "markdown",
   "metadata": {
    "pycharm": {
     "name": "#%% md\n"
    }
   },
   "source": [
    "## Setup Jupyter Lab\n",
    "\n",
    "Let us setup Jupyter Lab on Ubuntu VM. This will also facilitate you to understand firewall configuration in GCP."
   ]
  },
  {
   "cell_type": "code",
   "execution_count": 1,
   "metadata": {
    "tags": [
     "remove-cell"
    ]
   },
   "outputs": [
    {
     "data": {
      "text/html": [
       "<iframe width=\"560\" height=\"315\" src=\"https://www.youtube.com/embed/f4V6Gg3ybFw?rel=0&amp;controls=1&amp;showinfo=0\" frameborder=\"0\" allowfullscreen></iframe>\n"
      ],
      "text/plain": [
       "<IPython.core.display.HTML object>"
      ]
     },
     "metadata": {},
     "output_type": "display_data"
    }
   ],
   "source": [
    "%%HTML\n",
    "<iframe width=\"560\" height=\"315\" src=\"https://www.youtube.com/embed/f4V6Gg3ybFw?rel=0&amp;controls=1&amp;showinfo=0\" frameborder=\"0\" allowfullscreen></iframe>"
   ]
  },
  {
   "cell_type": "markdown",
   "metadata": {
    "pycharm": {
     "name": "#%% md\n"
    }
   },
   "source": [
    "* Create Python based virtual environment - `python3 -m venv demojl`\n",
    "* Activate virtual environment - `source demojl/bin/activate`\n",
    "* Install required dependencies for Jupyter Lab - `pip install jupyterlab`\n",
    "* Launch Jupyter Lab - `jupyter lab --ip 0.0.0.0`\n",
    "* At this time, you will not be able to access Jupyter Lab\n",
    "* Go to firewall and open the port using GCP Web Console\n",
    "* Now enter the ip address and port number to access the Jupyter Lab UI."
   ]
  }
 ],
 "metadata": {
  "kernelspec": {
   "display_name": "Python 3",
   "language": "python",
   "name": "python3"
  },
  "language_info": {
   "codemirror_mode": {
    "name": "ipython",
    "version": 3
   },
   "file_extension": ".py",
   "mimetype": "text/x-python",
   "name": "python",
   "nbconvert_exporter": "python",
   "pygments_lexer": "ipython3",
   "version": "3.7.9"
  }
 },
 "nbformat": 4,
 "nbformat_minor": 4
}

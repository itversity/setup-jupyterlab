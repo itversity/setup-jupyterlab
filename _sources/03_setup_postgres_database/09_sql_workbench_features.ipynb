{
 "cells": [
  {
   "cell_type": "markdown",
   "metadata": {},
   "source": [
    "## SQL Workbench Features\n",
    "\n",
    "Here are some of the key features, you have to familiar with related to SQL Workbench."
   ]
  },
  {
   "cell_type": "code",
   "execution_count": 1,
   "metadata": {
    "tags": [
     "remove-cell"
    ]
   },
   "outputs": [
    {
     "data": {
      "text/html": [
       "<iframe width=\"560\" height=\"315\" src=\"https://www.youtube.com/embed/7vPJ7TKNQE4?rel=0&amp;controls=1&amp;showinfo=0\" frameborder=\"0\" allowfullscreen></iframe>\n"
      ],
      "text/plain": [
       "<IPython.core.display.HTML object>"
      ]
     },
     "metadata": {},
     "output_type": "display_data"
    }
   ],
   "source": [
    "%%HTML\n",
    "<iframe width=\"560\" height=\"315\" src=\"https://www.youtube.com/embed/7vPJ7TKNQE4?rel=0&amp;controls=1&amp;showinfo=0\" frameborder=\"0\" allowfullscreen></iframe>"
   ]
  },
  {
   "cell_type": "markdown",
   "metadata": {},
   "source": [
    "* Ability to connect to different RDBMS, Data Warehouse and MPP Database servers such as Postgres, MySQL, Oracle, Redshift etc.\n",
    "* Saving profiles to connect to multiple databases.\n",
    "* Ability to access data dictionary or information schema using wizards to validate tables, columns, sequences, indexes, constraints etc.\n",
    "* Generate scripts out of existing data.\n",
    "* Ability to manage database objects with out writing any commands. We can drop tables, indexes, sequences etc by right clicking and then selecting drop option.\n",
    "* Develop SQL files and preserve them for future usage.\n",
    "\n",
    "Almost all leading IDEs provide all these features in similar fashion.\n",
    "\n",
    "**Usage Scenarios**\n",
    "\n",
    "Here are **some of the usage scenarios** for database IDEs such as SQL Workbench as part of day to day responsibilities.\n",
    "* Developers for generating and validating data as part of unit testing.\n",
    "* Testers to validate data for their test cases.\n",
    "* Business Analysts and Data Analysts to run ad hoc queries to understand the data better.\n",
    "* Developers to troubleshoot data related to production issues using read only accounts."
   ]
  }
 ],
 "metadata": {
  "kernelspec": {
   "display_name": "Python 3",
   "language": "python",
   "name": "python3"
  },
  "language_info": {
   "codemirror_mode": {
    "name": "ipython",
    "version": 3
   },
   "file_extension": ".py",
   "mimetype": "text/x-python",
   "name": "python",
   "nbconvert_exporter": "python",
   "pygments_lexer": "ipython3",
   "version": "3.6.12"
  }
 },
 "nbformat": 4,
 "nbformat_minor": 4
}
